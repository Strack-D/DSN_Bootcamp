{
 "cells": [
  {
   "cell_type": "code",
   "execution_count": 1,
   "id": "a3f8b035",
   "metadata": {},
   "outputs": [],
   "source": [
    "#importation of necessary libraries\n",
    "import pandas as pd\n",
    "import matplotlib.pyplot as plt\n",
    "import numpy as np\n",
    "import seaborn as sns\n",
    "\n",
    "import warnings\n",
    "warnings.filterwarnings('ignore')"
   ]
  },
  {
   "cell_type": "code",
   "execution_count": 2,
   "id": "33adc114",
   "metadata": {},
   "outputs": [],
   "source": [
    "#load Housing Data\n",
    "raw_data = pd.read_csv('dataset/Housing_dataset_train.csv')\n",
    "housingDataTest = pd.read_csv('dataset/Housing_dataset_test.csv')\n",
    "submission = pd.read_csv(\"dataset/Sample_submission.csv\")"
   ]
  },
  {
   "cell_type": "markdown",
   "id": "dc086990",
   "metadata": {},
   "source": [
    "# Basic Data Exploration"
   ]
  },
  {
   "cell_type": "code",
   "execution_count": 3,
   "id": "c4701846",
   "metadata": {},
   "outputs": [
    {
     "data": {
      "text/html": [
       "<div>\n",
       "<style scoped>\n",
       "    .dataframe tbody tr th:only-of-type {\n",
       "        vertical-align: middle;\n",
       "    }\n",
       "\n",
       "    .dataframe tbody tr th {\n",
       "        vertical-align: top;\n",
       "    }\n",
       "\n",
       "    .dataframe thead th {\n",
       "        text-align: right;\n",
       "    }\n",
       "</style>\n",
       "<table border=\"1\" class=\"dataframe\">\n",
       "  <thead>\n",
       "    <tr style=\"text-align: right;\">\n",
       "      <th></th>\n",
       "      <th>ID</th>\n",
       "      <th>loc</th>\n",
       "      <th>title</th>\n",
       "      <th>bedroom</th>\n",
       "      <th>bathroom</th>\n",
       "      <th>parking_space</th>\n",
       "      <th>price</th>\n",
       "    </tr>\n",
       "  </thead>\n",
       "  <tbody>\n",
       "    <tr>\n",
       "      <th>0</th>\n",
       "      <td>3583</td>\n",
       "      <td>Katsina</td>\n",
       "      <td>Semi-detached duplex</td>\n",
       "      <td>2.0</td>\n",
       "      <td>2.0</td>\n",
       "      <td>1.0</td>\n",
       "      <td>1149999.565</td>\n",
       "    </tr>\n",
       "    <tr>\n",
       "      <th>1</th>\n",
       "      <td>2748</td>\n",
       "      <td>Ondo</td>\n",
       "      <td>Apartment</td>\n",
       "      <td>NaN</td>\n",
       "      <td>2.0</td>\n",
       "      <td>4.0</td>\n",
       "      <td>1672416.689</td>\n",
       "    </tr>\n",
       "    <tr>\n",
       "      <th>2</th>\n",
       "      <td>9261</td>\n",
       "      <td>Ekiti</td>\n",
       "      <td>NaN</td>\n",
       "      <td>7.0</td>\n",
       "      <td>5.0</td>\n",
       "      <td>NaN</td>\n",
       "      <td>3364799.814</td>\n",
       "    </tr>\n",
       "    <tr>\n",
       "      <th>3</th>\n",
       "      <td>2224</td>\n",
       "      <td>Anambra</td>\n",
       "      <td>Detached duplex</td>\n",
       "      <td>5.0</td>\n",
       "      <td>2.0</td>\n",
       "      <td>4.0</td>\n",
       "      <td>2410306.756</td>\n",
       "    </tr>\n",
       "    <tr>\n",
       "      <th>4</th>\n",
       "      <td>10300</td>\n",
       "      <td>Kogi</td>\n",
       "      <td>Terrace duplex</td>\n",
       "      <td>NaN</td>\n",
       "      <td>5.0</td>\n",
       "      <td>6.0</td>\n",
       "      <td>2600700.898</td>\n",
       "    </tr>\n",
       "  </tbody>\n",
       "</table>\n",
       "</div>"
      ],
      "text/plain": [
       "      ID      loc                 title  bedroom  bathroom  parking_space  \\\n",
       "0   3583  Katsina  Semi-detached duplex      2.0       2.0            1.0   \n",
       "1   2748     Ondo             Apartment      NaN       2.0            4.0   \n",
       "2   9261    Ekiti                   NaN      7.0       5.0            NaN   \n",
       "3   2224  Anambra       Detached duplex      5.0       2.0            4.0   \n",
       "4  10300     Kogi        Terrace duplex      NaN       5.0            6.0   \n",
       "\n",
       "         price  \n",
       "0  1149999.565  \n",
       "1  1672416.689  \n",
       "2  3364799.814  \n",
       "3  2410306.756  \n",
       "4  2600700.898  "
      ]
     },
     "execution_count": 3,
     "metadata": {},
     "output_type": "execute_result"
    }
   ],
   "source": [
    "raw_data.head()"
   ]
  },
  {
   "cell_type": "code",
   "execution_count": 4,
   "id": "b8cd8020",
   "metadata": {},
   "outputs": [
    {
     "data": {
      "text/html": [
       "<div>\n",
       "<style scoped>\n",
       "    .dataframe tbody tr th:only-of-type {\n",
       "        vertical-align: middle;\n",
       "    }\n",
       "\n",
       "    .dataframe tbody tr th {\n",
       "        vertical-align: top;\n",
       "    }\n",
       "\n",
       "    .dataframe thead th {\n",
       "        text-align: right;\n",
       "    }\n",
       "</style>\n",
       "<table border=\"1\" class=\"dataframe\">\n",
       "  <thead>\n",
       "    <tr style=\"text-align: right;\">\n",
       "      <th></th>\n",
       "      <th>ID</th>\n",
       "      <th>loc</th>\n",
       "      <th>title</th>\n",
       "      <th>bedroom</th>\n",
       "      <th>bathroom</th>\n",
       "      <th>parking_space</th>\n",
       "    </tr>\n",
       "  </thead>\n",
       "  <tbody>\n",
       "    <tr>\n",
       "      <th>0</th>\n",
       "      <td>845</td>\n",
       "      <td>Kano</td>\n",
       "      <td>Penthouse</td>\n",
       "      <td>4</td>\n",
       "      <td>1</td>\n",
       "      <td>2</td>\n",
       "    </tr>\n",
       "    <tr>\n",
       "      <th>1</th>\n",
       "      <td>1924</td>\n",
       "      <td>Adamawa</td>\n",
       "      <td>Apartment</td>\n",
       "      <td>2</td>\n",
       "      <td>2</td>\n",
       "      <td>4</td>\n",
       "    </tr>\n",
       "    <tr>\n",
       "      <th>2</th>\n",
       "      <td>10718</td>\n",
       "      <td>Adamawa</td>\n",
       "      <td>Bungalow</td>\n",
       "      <td>2</td>\n",
       "      <td>7</td>\n",
       "      <td>2</td>\n",
       "    </tr>\n",
       "    <tr>\n",
       "      <th>3</th>\n",
       "      <td>12076</td>\n",
       "      <td>Lagos</td>\n",
       "      <td>Mansion</td>\n",
       "      <td>9</td>\n",
       "      <td>5</td>\n",
       "      <td>2</td>\n",
       "    </tr>\n",
       "    <tr>\n",
       "      <th>4</th>\n",
       "      <td>12254</td>\n",
       "      <td>Gombe</td>\n",
       "      <td>Semi-detached duplex</td>\n",
       "      <td>5</td>\n",
       "      <td>6</td>\n",
       "      <td>1</td>\n",
       "    </tr>\n",
       "  </tbody>\n",
       "</table>\n",
       "</div>"
      ],
      "text/plain": [
       "      ID      loc                 title  bedroom  bathroom  parking_space\n",
       "0    845     Kano             Penthouse        4         1              2\n",
       "1   1924  Adamawa             Apartment        2         2              4\n",
       "2  10718  Adamawa              Bungalow        2         7              2\n",
       "3  12076    Lagos               Mansion        9         5              2\n",
       "4  12254    Gombe  Semi-detached duplex        5         6              1"
      ]
     },
     "execution_count": 4,
     "metadata": {},
     "output_type": "execute_result"
    }
   ],
   "source": [
    "housingDataTest.head()"
   ]
  },
  {
   "cell_type": "code",
   "execution_count": 5,
   "id": "26959fe2",
   "metadata": {},
   "outputs": [
    {
     "name": "stdout",
     "output_type": "stream",
     "text": [
      "<class 'pandas.core.frame.DataFrame'>\n",
      "RangeIndex: 14000 entries, 0 to 13999\n",
      "Data columns (total 7 columns):\n",
      " #   Column         Non-Null Count  Dtype  \n",
      "---  ------         --------------  -----  \n",
      " 0   ID             14000 non-null  int64  \n",
      " 1   loc            12187 non-null  object \n",
      " 2   title          12278 non-null  object \n",
      " 3   bedroom        12201 non-null  float64\n",
      " 4   bathroom       12195 non-null  float64\n",
      " 5   parking_space  12189 non-null  float64\n",
      " 6   price          14000 non-null  float64\n",
      "dtypes: float64(4), int64(1), object(2)\n",
      "memory usage: 765.8+ KB\n"
     ]
    }
   ],
   "source": [
    "raw_data.info()"
   ]
  },
  {
   "cell_type": "code",
   "execution_count": 6,
   "id": "2ae70d6d",
   "metadata": {},
   "outputs": [
    {
     "name": "stdout",
     "output_type": "stream",
     "text": [
      "<class 'pandas.core.frame.DataFrame'>\n",
      "RangeIndex: 6000 entries, 0 to 5999\n",
      "Data columns (total 6 columns):\n",
      " #   Column         Non-Null Count  Dtype \n",
      "---  ------         --------------  ----- \n",
      " 0   ID             6000 non-null   int64 \n",
      " 1   loc            6000 non-null   object\n",
      " 2   title          6000 non-null   object\n",
      " 3   bedroom        6000 non-null   int64 \n",
      " 4   bathroom       6000 non-null   int64 \n",
      " 5   parking_space  6000 non-null   int64 \n",
      "dtypes: int64(4), object(2)\n",
      "memory usage: 281.4+ KB\n"
     ]
    }
   ],
   "source": [
    "housingDataTest.info()"
   ]
  },
  {
   "cell_type": "code",
   "execution_count": 7,
   "id": "4f3659b9",
   "metadata": {},
   "outputs": [
    {
     "data": {
      "text/html": [
       "<div>\n",
       "<style scoped>\n",
       "    .dataframe tbody tr th:only-of-type {\n",
       "        vertical-align: middle;\n",
       "    }\n",
       "\n",
       "    .dataframe tbody tr th {\n",
       "        vertical-align: top;\n",
       "    }\n",
       "\n",
       "    .dataframe thead th {\n",
       "        text-align: right;\n",
       "    }\n",
       "</style>\n",
       "<table border=\"1\" class=\"dataframe\">\n",
       "  <thead>\n",
       "    <tr style=\"text-align: right;\">\n",
       "      <th></th>\n",
       "      <th>ID</th>\n",
       "      <th>bedroom</th>\n",
       "      <th>bathroom</th>\n",
       "      <th>parking_space</th>\n",
       "      <th>price</th>\n",
       "    </tr>\n",
       "  </thead>\n",
       "  <tbody>\n",
       "    <tr>\n",
       "      <th>count</th>\n",
       "      <td>14000.000000</td>\n",
       "      <td>12201.000000</td>\n",
       "      <td>12195.000000</td>\n",
       "      <td>12189.000000</td>\n",
       "      <td>1.400000e+04</td>\n",
       "    </tr>\n",
       "    <tr>\n",
       "      <th>mean</th>\n",
       "      <td>4862.700357</td>\n",
       "      <td>4.308171</td>\n",
       "      <td>3.134235</td>\n",
       "      <td>3.169825</td>\n",
       "      <td>2.138082e+06</td>\n",
       "    </tr>\n",
       "    <tr>\n",
       "      <th>std</th>\n",
       "      <td>3818.348214</td>\n",
       "      <td>2.441165</td>\n",
       "      <td>2.035950</td>\n",
       "      <td>1.599415</td>\n",
       "      <td>1.083057e+06</td>\n",
       "    </tr>\n",
       "    <tr>\n",
       "      <th>min</th>\n",
       "      <td>0.000000</td>\n",
       "      <td>1.000000</td>\n",
       "      <td>1.000000</td>\n",
       "      <td>1.000000</td>\n",
       "      <td>4.319673e+05</td>\n",
       "    </tr>\n",
       "    <tr>\n",
       "      <th>25%</th>\n",
       "      <td>1672.750000</td>\n",
       "      <td>2.000000</td>\n",
       "      <td>1.000000</td>\n",
       "      <td>2.000000</td>\n",
       "      <td>1.393990e+06</td>\n",
       "    </tr>\n",
       "    <tr>\n",
       "      <th>50%</th>\n",
       "      <td>3527.000000</td>\n",
       "      <td>4.000000</td>\n",
       "      <td>2.000000</td>\n",
       "      <td>3.000000</td>\n",
       "      <td>1.895223e+06</td>\n",
       "    </tr>\n",
       "    <tr>\n",
       "      <th>75%</th>\n",
       "      <td>8011.250000</td>\n",
       "      <td>6.000000</td>\n",
       "      <td>5.000000</td>\n",
       "      <td>4.000000</td>\n",
       "      <td>2.586699e+06</td>\n",
       "    </tr>\n",
       "    <tr>\n",
       "      <th>max</th>\n",
       "      <td>12999.000000</td>\n",
       "      <td>9.000000</td>\n",
       "      <td>7.000000</td>\n",
       "      <td>6.000000</td>\n",
       "      <td>1.656849e+07</td>\n",
       "    </tr>\n",
       "  </tbody>\n",
       "</table>\n",
       "</div>"
      ],
      "text/plain": [
       "                 ID       bedroom      bathroom  parking_space         price\n",
       "count  14000.000000  12201.000000  12195.000000   12189.000000  1.400000e+04\n",
       "mean    4862.700357      4.308171      3.134235       3.169825  2.138082e+06\n",
       "std     3818.348214      2.441165      2.035950       1.599415  1.083057e+06\n",
       "min        0.000000      1.000000      1.000000       1.000000  4.319673e+05\n",
       "25%     1672.750000      2.000000      1.000000       2.000000  1.393990e+06\n",
       "50%     3527.000000      4.000000      2.000000       3.000000  1.895223e+06\n",
       "75%     8011.250000      6.000000      5.000000       4.000000  2.586699e+06\n",
       "max    12999.000000      9.000000      7.000000       6.000000  1.656849e+07"
      ]
     },
     "execution_count": 7,
     "metadata": {},
     "output_type": "execute_result"
    }
   ],
   "source": [
    "raw_data.describe()"
   ]
  },
  {
   "cell_type": "markdown",
   "id": "8e8c94ea",
   "metadata": {},
   "source": [
    "# Data Cleaning"
   ]
  },
  {
   "cell_type": "code",
   "execution_count": 8,
   "id": "6393e093",
   "metadata": {},
   "outputs": [
    {
     "data": {
      "text/plain": [
       "0"
      ]
     },
     "execution_count": 8,
     "metadata": {},
     "output_type": "execute_result"
    }
   ],
   "source": [
    "raw_data.duplicated().sum()"
   ]
  },
  {
   "cell_type": "code",
   "execution_count": 9,
   "id": "20fdb2bb",
   "metadata": {},
   "outputs": [
    {
     "data": {
      "text/plain": [
       "ID                  0\n",
       "loc              1813\n",
       "title            1722\n",
       "bedroom          1799\n",
       "bathroom         1805\n",
       "parking_space    1811\n",
       "price               0\n",
       "dtype: int64"
      ]
     },
     "execution_count": 9,
     "metadata": {},
     "output_type": "execute_result"
    }
   ],
   "source": [
    "raw_data.isnull().sum()"
   ]
  },
  {
   "cell_type": "code",
   "execution_count": 10,
   "id": "1ab70bfe",
   "metadata": {},
   "outputs": [
    {
     "data": {
      "text/plain": [
       "ID                  0\n",
       "loc                 0\n",
       "title               0\n",
       "bedroom          1675\n",
       "bathroom         1672\n",
       "parking_space    1671\n",
       "price               0\n",
       "dtype: int64"
      ]
     },
     "execution_count": 10,
     "metadata": {},
     "output_type": "execute_result"
    }
   ],
   "source": [
    "raw_data.dropna(subset=['loc', 'title'], inplace=True)\n",
    "raw_data.reset_index()\n",
    "raw_data.isnull().sum()"
   ]
  },
  {
   "cell_type": "code",
   "execution_count": 11,
   "id": "5790ed02",
   "metadata": {},
   "outputs": [],
   "source": [
    "columns = raw_data.columns\n",
    "house_types = raw_data['title'].unique()"
   ]
  },
  {
   "cell_type": "code",
   "execution_count": 12,
   "id": "cdd66ba5",
   "metadata": {
    "scrolled": true
   },
   "outputs": [
    {
     "data": {
      "text/html": [
       "<div>\n",
       "<style scoped>\n",
       "    .dataframe tbody tr th:only-of-type {\n",
       "        vertical-align: middle;\n",
       "    }\n",
       "\n",
       "    .dataframe tbody tr th {\n",
       "        vertical-align: top;\n",
       "    }\n",
       "\n",
       "    .dataframe thead th {\n",
       "        text-align: right;\n",
       "    }\n",
       "</style>\n",
       "<table border=\"1\" class=\"dataframe\">\n",
       "  <thead>\n",
       "    <tr style=\"text-align: right;\">\n",
       "      <th></th>\n",
       "      <th>bedroom</th>\n",
       "      <th>bathroom</th>\n",
       "      <th>parking_space</th>\n",
       "      <th>price</th>\n",
       "    </tr>\n",
       "    <tr>\n",
       "      <th>title</th>\n",
       "      <th></th>\n",
       "      <th></th>\n",
       "      <th></th>\n",
       "      <th></th>\n",
       "    </tr>\n",
       "  </thead>\n",
       "  <tbody>\n",
       "    <tr>\n",
       "      <th>Apartment</th>\n",
       "      <td>4.386792</td>\n",
       "      <td>3.075665</td>\n",
       "      <td>3.305759</td>\n",
       "      <td>1.573772e+06</td>\n",
       "    </tr>\n",
       "    <tr>\n",
       "      <th>Bungalow</th>\n",
       "      <td>4.417910</td>\n",
       "      <td>3.434254</td>\n",
       "      <td>3.227862</td>\n",
       "      <td>1.732655e+06</td>\n",
       "    </tr>\n",
       "    <tr>\n",
       "      <th>Cottage</th>\n",
       "      <td>2.892638</td>\n",
       "      <td>1.489362</td>\n",
       "      <td>2.511765</td>\n",
       "      <td>1.319260e+06</td>\n",
       "    </tr>\n",
       "    <tr>\n",
       "      <th>Detached duplex</th>\n",
       "      <td>4.330561</td>\n",
       "      <td>3.204255</td>\n",
       "      <td>3.203625</td>\n",
       "      <td>2.208319e+06</td>\n",
       "    </tr>\n",
       "    <tr>\n",
       "      <th>Flat</th>\n",
       "      <td>4.414683</td>\n",
       "      <td>3.226908</td>\n",
       "      <td>3.148297</td>\n",
       "      <td>1.727680e+06</td>\n",
       "    </tr>\n",
       "    <tr>\n",
       "      <th>Mansion</th>\n",
       "      <td>4.341595</td>\n",
       "      <td>3.196617</td>\n",
       "      <td>3.088514</td>\n",
       "      <td>3.712847e+06</td>\n",
       "    </tr>\n",
       "    <tr>\n",
       "      <th>Penthouse</th>\n",
       "      <td>4.282678</td>\n",
       "      <td>2.985991</td>\n",
       "      <td>3.237942</td>\n",
       "      <td>2.622204e+06</td>\n",
       "    </tr>\n",
       "    <tr>\n",
       "      <th>Semi-detached duplex</th>\n",
       "      <td>4.364030</td>\n",
       "      <td>3.189018</td>\n",
       "      <td>3.160468</td>\n",
       "      <td>1.908512e+06</td>\n",
       "    </tr>\n",
       "    <tr>\n",
       "      <th>Terrace duplex</th>\n",
       "      <td>4.367061</td>\n",
       "      <td>3.302575</td>\n",
       "      <td>3.153761</td>\n",
       "      <td>1.930154e+06</td>\n",
       "    </tr>\n",
       "    <tr>\n",
       "      <th>Townhouse</th>\n",
       "      <td>4.246040</td>\n",
       "      <td>3.153445</td>\n",
       "      <td>3.184426</td>\n",
       "      <td>2.044775e+06</td>\n",
       "    </tr>\n",
       "  </tbody>\n",
       "</table>\n",
       "</div>"
      ],
      "text/plain": [
       "                       bedroom  bathroom  parking_space         price\n",
       "title                                                                \n",
       "Apartment             4.386792  3.075665       3.305759  1.573772e+06\n",
       "Bungalow              4.417910  3.434254       3.227862  1.732655e+06\n",
       "Cottage               2.892638  1.489362       2.511765  1.319260e+06\n",
       "Detached duplex       4.330561  3.204255       3.203625  2.208319e+06\n",
       "Flat                  4.414683  3.226908       3.148297  1.727680e+06\n",
       "Mansion               4.341595  3.196617       3.088514  3.712847e+06\n",
       "Penthouse             4.282678  2.985991       3.237942  2.622204e+06\n",
       "Semi-detached duplex  4.364030  3.189018       3.160468  1.908512e+06\n",
       "Terrace duplex        4.367061  3.302575       3.153761  1.930154e+06\n",
       "Townhouse             4.246040  3.153445       3.184426  2.044775e+06"
      ]
     },
     "execution_count": 12,
     "metadata": {},
     "output_type": "execute_result"
    }
   ],
   "source": [
    "mean_data = raw_data.groupby('title')[['bedroom', 'bathroom', 'parking_space', 'price']].mean()\n",
    "print(mean_data)"
   ]
  },
  {
   "cell_type": "code",
   "execution_count": 16,
   "id": "2fbbcde7",
   "metadata": {},
   "outputs": [
    {
     "name": "stdout",
     "output_type": "stream",
     "text": [
      "                        bedroom  bathroom  parking_space\n",
      "title                                                   \n",
      "Apartment            0      1.0       1.0            4.0\n",
      "                     1      3.0       NaN            NaN\n",
      "                     2      5.0       NaN            NaN\n",
      "Bungalow             0      2.0       2.0            4.0\n",
      "Cottage              0      1.0       1.0            4.0\n",
      "Detached duplex      0      5.0       1.0            2.0\n",
      "Flat                 0      3.0       2.0            2.0\n",
      "Mansion              0      3.0       1.0            2.0\n",
      "Penthouse            0      5.0       2.0            4.0\n",
      "Semi-detached duplex 0      3.0       2.0            3.0\n",
      "Terrace duplex       0      2.0       1.0            4.0\n",
      "Townhouse            0      1.0       1.0            1.0\n",
      "                     1      NaN       2.0            2.0\n"
     ]
    }
   ],
   "source": [
    "def mode(series):\n",
    "    return series.mode()\n",
    "mode_data = raw_data.groupby('title')[['bedroom', 'bathroom', 'parking_space']].apply(mode)\n",
    "print(mode_data)"
   ]
  },
  {
   "cell_type": "code",
   "execution_count": null,
   "id": "5014a88c",
   "metadata": {},
   "outputs": [],
   "source": []
  },
  {
   "cell_type": "code",
   "execution_count": null,
   "id": "05b248e3",
   "metadata": {},
   "outputs": [],
   "source": [
    "for house in house_types:\n",
    "    sns.histplot(data=raw_data[raw_data['title'] == house], x='bedroom')\n",
    "    plt.plot"
   ]
  },
  {
   "cell_type": "code",
   "execution_count": 39,
   "id": "7ceacf5f",
   "metadata": {},
   "outputs": [
    {
     "name": "stdout",
     "output_type": "stream",
     "text": [
      "Unexpected exception formatting exception. Falling back to standard exception\n"
     ]
    },
    {
     "name": "stderr",
     "output_type": "stream",
     "text": [
      "Traceback (most recent call last):\n",
      "  File \"C:\\Users\\Binatone-PH\\anaconda3\\lib\\site-packages\\IPython\\core\\formatters.py\", line 222, in catch_format_error\n",
      "    try:\n",
      "  File \"C:\\Users\\Binatone-PH\\anaconda3\\lib\\site-packages\\IPython\\core\\formatters.py\", line 339, in __call__\n",
      "    else:\n",
      "  File \"C:\\Users\\Binatone-PH\\anaconda3\\lib\\site-packages\\IPython\\core\\pylabtools.py\", line 151, in print_figure\n",
      "  File \"C:\\Users\\Binatone-PH\\anaconda3\\lib\\site-packages\\matplotlib\\backend_bases.py\", line 2319, in print_figure\n",
      "    ExitStack() as stack:\n",
      "  File \"C:\\Users\\Binatone-PH\\anaconda3\\lib\\site-packages\\matplotlib\\backend_bases.py\", line 1648, in wrapper\n",
      "    events = [\n",
      "  File \"C:\\Users\\Binatone-PH\\anaconda3\\lib\\site-packages\\matplotlib\\_api\\deprecation.py\", line 412, in wrapper\n",
      "    DECORATORS[wrapper] = decorator\n",
      "  File \"C:\\Users\\Binatone-PH\\anaconda3\\lib\\site-packages\\matplotlib\\backends\\backend_agg.py\", line 541, in print_png\n",
      "  File \"C:\\Users\\Binatone-PH\\anaconda3\\lib\\site-packages\\matplotlib\\image.py\", line 1675, in imsave\n",
      "    for k, v in metadata.items():\n",
      "  File \"C:\\Users\\Binatone-PH\\anaconda3\\lib\\site-packages\\PIL\\Image.py\", line 2184, in save\n",
      "    self = Image.reduce(self, factor, box=reduce_box)\n",
      "  File \"C:\\Users\\Binatone-PH\\anaconda3\\lib\\site-packages\\PIL\\Image.py\", line 334, in preinit\n",
      "    try:\n",
      "  File \"C:\\Users\\Binatone-PH\\anaconda3\\lib\\site-packages\\PIL\\JpegImagePlugin.py\", line 44, in <module>\n",
      "    from . import Image, ImageFile, TiffImagePlugin\n",
      "  File \"C:\\Users\\Binatone-PH\\anaconda3\\lib\\site-packages\\PIL\\TiffImagePlugin.py\", line 52, in <module>\n",
      "    from . import Image, ImageFile, ImageOps, ImagePalette, TiffTags\n",
      "  File \"C:\\Users\\Binatone-PH\\anaconda3\\lib\\site-packages\\PIL\\ImageOps.py\", line 242, in <module>\n",
      "    def contain(image, size, method=Image.Resampling.BICUBIC):\n",
      "  File \"C:\\Users\\Binatone-PH\\anaconda3\\lib\\site-packages\\PIL\\Image.py\", line 65, in __getattr__\n",
      "    if name in categories:\n",
      "AttributeError: module 'PIL.Image' has no attribute 'Resampling'\n",
      "\n",
      "During handling of the above exception, another exception occurred:\n",
      "\n",
      "Traceback (most recent call last):\n",
      "  File \"C:\\Users\\Binatone-PH\\anaconda3\\lib\\site-packages\\IPython\\core\\interactiveshell.py\", line 1992, in showtraceback\n",
      "  File \"C:\\Users\\Binatone-PH\\anaconda3\\lib\\site-packages\\IPython\\core\\ultratb.py\", line 1118, in structured_traceback\n",
      "    if hasattr(self, 'tb') and self.tb is not None:\n",
      "  File \"C:\\Users\\Binatone-PH\\anaconda3\\lib\\site-packages\\IPython\\core\\ultratb.py\", line 1012, in structured_traceback\n",
      "    pygments_formatter=formatter,\n",
      "  File \"C:\\Users\\Binatone-PH\\anaconda3\\lib\\site-packages\\IPython\\core\\ultratb.py\", line 865, in structured_traceback\n",
      "    current_line,\n",
      "  File \"C:\\Users\\Binatone-PH\\anaconda3\\lib\\site-packages\\IPython\\core\\ultratb.py\", line 818, in format_exception_as_a_whole\n",
      "    # 100% sure this isn't actually a bug in inspect itself,\n",
      "  File \"C:\\Users\\Binatone-PH\\anaconda3\\lib\\site-packages\\IPython\\core\\ultratb.py\", line 736, in format_record\n",
      "    call_pdb: bool = False,\n",
      "  File \"C:\\Users\\Binatone-PH\\anaconda3\\lib\\site-packages\\stack_data\\utils.py\", line 145, in cached_property_wrapper\n",
      "    value = obj.__dict__[self.func.__name__] = self.func(obj)\n",
      "  File \"C:\\Users\\Binatone-PH\\anaconda3\\lib\\site-packages\\stack_data\\core.py\", line 698, in lines\n",
      "    pieces = self.included_pieces\n",
      "  File \"C:\\Users\\Binatone-PH\\anaconda3\\lib\\site-packages\\stack_data\\utils.py\", line 145, in cached_property_wrapper\n",
      "    value = obj.__dict__[self.func.__name__] = self.func(obj)\n",
      "  File \"C:\\Users\\Binatone-PH\\anaconda3\\lib\\site-packages\\stack_data\\core.py\", line 649, in included_pieces\n",
      "    pos = scope_pieces.index(self.executing_piece)\n",
      "  File \"C:\\Users\\Binatone-PH\\anaconda3\\lib\\site-packages\\stack_data\\utils.py\", line 145, in cached_property_wrapper\n",
      "    value = obj.__dict__[self.func.__name__] = self.func(obj)\n",
      "  File \"C:\\Users\\Binatone-PH\\anaconda3\\lib\\site-packages\\stack_data\\core.py\", line 628, in executing_piece\n",
      "    return only(\n",
      "  File \"C:\\Users\\Binatone-PH\\anaconda3\\lib\\site-packages\\executing\\executing.py\", line 164, in only\n",
      "    raise NotOneValueFound('Expected one value, found 0')\n",
      "executing.executing.NotOneValueFound: Expected one value, found 0\n"
     ]
    },
    {
     "data": {
      "text/plain": [
       "<Figure size 432x288 with 1 Axes>"
      ]
     },
     "metadata": {
      "needs_background": "light"
     },
     "output_type": "display_data"
    },
    {
     "name": "stdout",
     "output_type": "stream",
     "text": [
      "Unexpected exception formatting exception. Falling back to standard exception\n"
     ]
    },
    {
     "name": "stderr",
     "output_type": "stream",
     "text": [
      "Traceback (most recent call last):\n",
      "  File \"C:\\Users\\Binatone-PH\\anaconda3\\lib\\site-packages\\IPython\\core\\formatters.py\", line 222, in catch_format_error\n",
      "    try:\n",
      "  File \"C:\\Users\\Binatone-PH\\anaconda3\\lib\\site-packages\\IPython\\core\\formatters.py\", line 339, in __call__\n",
      "    else:\n",
      "  File \"C:\\Users\\Binatone-PH\\anaconda3\\lib\\site-packages\\IPython\\core\\pylabtools.py\", line 151, in print_figure\n",
      "  File \"C:\\Users\\Binatone-PH\\anaconda3\\lib\\site-packages\\matplotlib\\backend_bases.py\", line 2319, in print_figure\n",
      "    ExitStack() as stack:\n",
      "  File \"C:\\Users\\Binatone-PH\\anaconda3\\lib\\site-packages\\matplotlib\\backend_bases.py\", line 1648, in wrapper\n",
      "    events = [\n",
      "  File \"C:\\Users\\Binatone-PH\\anaconda3\\lib\\site-packages\\matplotlib\\_api\\deprecation.py\", line 412, in wrapper\n",
      "    DECORATORS[wrapper] = decorator\n",
      "  File \"C:\\Users\\Binatone-PH\\anaconda3\\lib\\site-packages\\matplotlib\\backends\\backend_agg.py\", line 541, in print_png\n",
      "  File \"C:\\Users\\Binatone-PH\\anaconda3\\lib\\site-packages\\matplotlib\\image.py\", line 1675, in imsave\n",
      "    for k, v in metadata.items():\n",
      "  File \"C:\\Users\\Binatone-PH\\anaconda3\\lib\\site-packages\\PIL\\Image.py\", line 2184, in save\n",
      "    self = Image.reduce(self, factor, box=reduce_box)\n",
      "  File \"C:\\Users\\Binatone-PH\\anaconda3\\lib\\site-packages\\PIL\\Image.py\", line 334, in preinit\n",
      "    try:\n",
      "  File \"C:\\Users\\Binatone-PH\\anaconda3\\lib\\site-packages\\PIL\\JpegImagePlugin.py\", line 44, in <module>\n",
      "    from . import Image, ImageFile, TiffImagePlugin\n",
      "  File \"C:\\Users\\Binatone-PH\\anaconda3\\lib\\site-packages\\PIL\\TiffImagePlugin.py\", line 52, in <module>\n",
      "    from . import Image, ImageFile, ImageOps, ImagePalette, TiffTags\n",
      "  File \"C:\\Users\\Binatone-PH\\anaconda3\\lib\\site-packages\\PIL\\ImageOps.py\", line 242, in <module>\n",
      "    def contain(image, size, method=Image.Resampling.BICUBIC):\n",
      "  File \"C:\\Users\\Binatone-PH\\anaconda3\\lib\\site-packages\\PIL\\Image.py\", line 65, in __getattr__\n",
      "    if name in categories:\n",
      "AttributeError: module 'PIL.Image' has no attribute 'Resampling'\n",
      "\n",
      "During handling of the above exception, another exception occurred:\n",
      "\n",
      "Traceback (most recent call last):\n",
      "  File \"C:\\Users\\Binatone-PH\\anaconda3\\lib\\site-packages\\IPython\\core\\interactiveshell.py\", line 1992, in showtraceback\n",
      "  File \"C:\\Users\\Binatone-PH\\anaconda3\\lib\\site-packages\\IPython\\core\\ultratb.py\", line 1118, in structured_traceback\n",
      "    if hasattr(self, 'tb') and self.tb is not None:\n",
      "  File \"C:\\Users\\Binatone-PH\\anaconda3\\lib\\site-packages\\IPython\\core\\ultratb.py\", line 1012, in structured_traceback\n",
      "    pygments_formatter=formatter,\n",
      "  File \"C:\\Users\\Binatone-PH\\anaconda3\\lib\\site-packages\\IPython\\core\\ultratb.py\", line 865, in structured_traceback\n",
      "    current_line,\n",
      "  File \"C:\\Users\\Binatone-PH\\anaconda3\\lib\\site-packages\\IPython\\core\\ultratb.py\", line 818, in format_exception_as_a_whole\n",
      "    # 100% sure this isn't actually a bug in inspect itself,\n",
      "  File \"C:\\Users\\Binatone-PH\\anaconda3\\lib\\site-packages\\IPython\\core\\ultratb.py\", line 736, in format_record\n",
      "    call_pdb: bool = False,\n",
      "  File \"C:\\Users\\Binatone-PH\\anaconda3\\lib\\site-packages\\stack_data\\utils.py\", line 145, in cached_property_wrapper\n",
      "    value = obj.__dict__[self.func.__name__] = self.func(obj)\n",
      "  File \"C:\\Users\\Binatone-PH\\anaconda3\\lib\\site-packages\\stack_data\\core.py\", line 698, in lines\n",
      "    pieces = self.included_pieces\n",
      "  File \"C:\\Users\\Binatone-PH\\anaconda3\\lib\\site-packages\\stack_data\\utils.py\", line 145, in cached_property_wrapper\n",
      "    value = obj.__dict__[self.func.__name__] = self.func(obj)\n",
      "  File \"C:\\Users\\Binatone-PH\\anaconda3\\lib\\site-packages\\stack_data\\core.py\", line 649, in included_pieces\n",
      "    pos = scope_pieces.index(self.executing_piece)\n",
      "  File \"C:\\Users\\Binatone-PH\\anaconda3\\lib\\site-packages\\stack_data\\utils.py\", line 145, in cached_property_wrapper\n",
      "    value = obj.__dict__[self.func.__name__] = self.func(obj)\n",
      "  File \"C:\\Users\\Binatone-PH\\anaconda3\\lib\\site-packages\\stack_data\\core.py\", line 628, in executing_piece\n",
      "    return only(\n",
      "  File \"C:\\Users\\Binatone-PH\\anaconda3\\lib\\site-packages\\executing\\executing.py\", line 164, in only\n",
      "    raise NotOneValueFound('Expected one value, found 0')\n",
      "executing.executing.NotOneValueFound: Expected one value, found 0\n"
     ]
    },
    {
     "data": {
      "text/plain": [
       "<Figure size 432x288 with 1 Axes>"
      ]
     },
     "metadata": {
      "needs_background": "light"
     },
     "output_type": "display_data"
    },
    {
     "name": "stdout",
     "output_type": "stream",
     "text": [
      "Unexpected exception formatting exception. Falling back to standard exception\n"
     ]
    },
    {
     "name": "stderr",
     "output_type": "stream",
     "text": [
      "Traceback (most recent call last):\n",
      "  File \"C:\\Users\\Binatone-PH\\anaconda3\\lib\\site-packages\\IPython\\core\\formatters.py\", line 222, in catch_format_error\n",
      "    try:\n",
      "  File \"C:\\Users\\Binatone-PH\\anaconda3\\lib\\site-packages\\IPython\\core\\formatters.py\", line 339, in __call__\n",
      "    else:\n",
      "  File \"C:\\Users\\Binatone-PH\\anaconda3\\lib\\site-packages\\IPython\\core\\pylabtools.py\", line 151, in print_figure\n",
      "  File \"C:\\Users\\Binatone-PH\\anaconda3\\lib\\site-packages\\matplotlib\\backend_bases.py\", line 2319, in print_figure\n",
      "    ExitStack() as stack:\n",
      "  File \"C:\\Users\\Binatone-PH\\anaconda3\\lib\\site-packages\\matplotlib\\backend_bases.py\", line 1648, in wrapper\n",
      "    events = [\n",
      "  File \"C:\\Users\\Binatone-PH\\anaconda3\\lib\\site-packages\\matplotlib\\_api\\deprecation.py\", line 412, in wrapper\n",
      "    DECORATORS[wrapper] = decorator\n",
      "  File \"C:\\Users\\Binatone-PH\\anaconda3\\lib\\site-packages\\matplotlib\\backends\\backend_agg.py\", line 541, in print_png\n",
      "  File \"C:\\Users\\Binatone-PH\\anaconda3\\lib\\site-packages\\matplotlib\\image.py\", line 1675, in imsave\n",
      "    for k, v in metadata.items():\n",
      "  File \"C:\\Users\\Binatone-PH\\anaconda3\\lib\\site-packages\\PIL\\Image.py\", line 2184, in save\n",
      "    self = Image.reduce(self, factor, box=reduce_box)\n",
      "  File \"C:\\Users\\Binatone-PH\\anaconda3\\lib\\site-packages\\PIL\\Image.py\", line 334, in preinit\n",
      "    try:\n",
      "  File \"C:\\Users\\Binatone-PH\\anaconda3\\lib\\site-packages\\PIL\\JpegImagePlugin.py\", line 44, in <module>\n",
      "    from . import Image, ImageFile, TiffImagePlugin\n",
      "  File \"C:\\Users\\Binatone-PH\\anaconda3\\lib\\site-packages\\PIL\\TiffImagePlugin.py\", line 52, in <module>\n",
      "    from . import Image, ImageFile, ImageOps, ImagePalette, TiffTags\n",
      "  File \"C:\\Users\\Binatone-PH\\anaconda3\\lib\\site-packages\\PIL\\ImageOps.py\", line 242, in <module>\n",
      "    def contain(image, size, method=Image.Resampling.BICUBIC):\n",
      "  File \"C:\\Users\\Binatone-PH\\anaconda3\\lib\\site-packages\\PIL\\Image.py\", line 65, in __getattr__\n",
      "    if name in categories:\n",
      "AttributeError: module 'PIL.Image' has no attribute 'Resampling'\n",
      "\n",
      "During handling of the above exception, another exception occurred:\n",
      "\n",
      "Traceback (most recent call last):\n",
      "  File \"C:\\Users\\Binatone-PH\\anaconda3\\lib\\site-packages\\IPython\\core\\interactiveshell.py\", line 1992, in showtraceback\n",
      "  File \"C:\\Users\\Binatone-PH\\anaconda3\\lib\\site-packages\\IPython\\core\\ultratb.py\", line 1118, in structured_traceback\n",
      "    if hasattr(self, 'tb') and self.tb is not None:\n",
      "  File \"C:\\Users\\Binatone-PH\\anaconda3\\lib\\site-packages\\IPython\\core\\ultratb.py\", line 1012, in structured_traceback\n",
      "    pygments_formatter=formatter,\n",
      "  File \"C:\\Users\\Binatone-PH\\anaconda3\\lib\\site-packages\\IPython\\core\\ultratb.py\", line 865, in structured_traceback\n",
      "    current_line,\n",
      "  File \"C:\\Users\\Binatone-PH\\anaconda3\\lib\\site-packages\\IPython\\core\\ultratb.py\", line 818, in format_exception_as_a_whole\n",
      "    # 100% sure this isn't actually a bug in inspect itself,\n",
      "  File \"C:\\Users\\Binatone-PH\\anaconda3\\lib\\site-packages\\IPython\\core\\ultratb.py\", line 736, in format_record\n",
      "    call_pdb: bool = False,\n",
      "  File \"C:\\Users\\Binatone-PH\\anaconda3\\lib\\site-packages\\stack_data\\utils.py\", line 145, in cached_property_wrapper\n",
      "    value = obj.__dict__[self.func.__name__] = self.func(obj)\n",
      "  File \"C:\\Users\\Binatone-PH\\anaconda3\\lib\\site-packages\\stack_data\\core.py\", line 698, in lines\n",
      "    pieces = self.included_pieces\n",
      "  File \"C:\\Users\\Binatone-PH\\anaconda3\\lib\\site-packages\\stack_data\\utils.py\", line 145, in cached_property_wrapper\n",
      "    value = obj.__dict__[self.func.__name__] = self.func(obj)\n",
      "  File \"C:\\Users\\Binatone-PH\\anaconda3\\lib\\site-packages\\stack_data\\core.py\", line 649, in included_pieces\n",
      "    pos = scope_pieces.index(self.executing_piece)\n",
      "  File \"C:\\Users\\Binatone-PH\\anaconda3\\lib\\site-packages\\stack_data\\utils.py\", line 145, in cached_property_wrapper\n",
      "    value = obj.__dict__[self.func.__name__] = self.func(obj)\n",
      "  File \"C:\\Users\\Binatone-PH\\anaconda3\\lib\\site-packages\\stack_data\\core.py\", line 628, in executing_piece\n",
      "    return only(\n",
      "  File \"C:\\Users\\Binatone-PH\\anaconda3\\lib\\site-packages\\executing\\executing.py\", line 164, in only\n",
      "    raise NotOneValueFound('Expected one value, found 0')\n",
      "executing.executing.NotOneValueFound: Expected one value, found 0\n"
     ]
    },
    {
     "data": {
      "text/plain": [
       "<Figure size 432x288 with 1 Axes>"
      ]
     },
     "metadata": {
      "needs_background": "light"
     },
     "output_type": "display_data"
    },
    {
     "name": "stdout",
     "output_type": "stream",
     "text": [
      "Unexpected exception formatting exception. Falling back to standard exception\n"
     ]
    },
    {
     "name": "stderr",
     "output_type": "stream",
     "text": [
      "Traceback (most recent call last):\n",
      "  File \"C:\\Users\\Binatone-PH\\anaconda3\\lib\\site-packages\\IPython\\core\\formatters.py\", line 222, in catch_format_error\n",
      "    try:\n",
      "  File \"C:\\Users\\Binatone-PH\\anaconda3\\lib\\site-packages\\IPython\\core\\formatters.py\", line 339, in __call__\n",
      "    else:\n",
      "  File \"C:\\Users\\Binatone-PH\\anaconda3\\lib\\site-packages\\IPython\\core\\pylabtools.py\", line 151, in print_figure\n",
      "  File \"C:\\Users\\Binatone-PH\\anaconda3\\lib\\site-packages\\matplotlib\\backend_bases.py\", line 2319, in print_figure\n",
      "    ExitStack() as stack:\n",
      "  File \"C:\\Users\\Binatone-PH\\anaconda3\\lib\\site-packages\\matplotlib\\backend_bases.py\", line 1648, in wrapper\n",
      "    events = [\n",
      "  File \"C:\\Users\\Binatone-PH\\anaconda3\\lib\\site-packages\\matplotlib\\_api\\deprecation.py\", line 412, in wrapper\n",
      "    DECORATORS[wrapper] = decorator\n",
      "  File \"C:\\Users\\Binatone-PH\\anaconda3\\lib\\site-packages\\matplotlib\\backends\\backend_agg.py\", line 541, in print_png\n",
      "  File \"C:\\Users\\Binatone-PH\\anaconda3\\lib\\site-packages\\matplotlib\\image.py\", line 1675, in imsave\n",
      "    for k, v in metadata.items():\n",
      "  File \"C:\\Users\\Binatone-PH\\anaconda3\\lib\\site-packages\\PIL\\Image.py\", line 2184, in save\n",
      "    self = Image.reduce(self, factor, box=reduce_box)\n",
      "  File \"C:\\Users\\Binatone-PH\\anaconda3\\lib\\site-packages\\PIL\\Image.py\", line 334, in preinit\n",
      "    try:\n",
      "  File \"C:\\Users\\Binatone-PH\\anaconda3\\lib\\site-packages\\PIL\\JpegImagePlugin.py\", line 44, in <module>\n",
      "    from . import Image, ImageFile, TiffImagePlugin\n",
      "  File \"C:\\Users\\Binatone-PH\\anaconda3\\lib\\site-packages\\PIL\\TiffImagePlugin.py\", line 52, in <module>\n",
      "    from . import Image, ImageFile, ImageOps, ImagePalette, TiffTags\n",
      "  File \"C:\\Users\\Binatone-PH\\anaconda3\\lib\\site-packages\\PIL\\ImageOps.py\", line 242, in <module>\n",
      "    def contain(image, size, method=Image.Resampling.BICUBIC):\n",
      "  File \"C:\\Users\\Binatone-PH\\anaconda3\\lib\\site-packages\\PIL\\Image.py\", line 65, in __getattr__\n",
      "    if name in categories:\n",
      "AttributeError: module 'PIL.Image' has no attribute 'Resampling'\n",
      "\n",
      "During handling of the above exception, another exception occurred:\n",
      "\n",
      "Traceback (most recent call last):\n",
      "  File \"C:\\Users\\Binatone-PH\\anaconda3\\lib\\site-packages\\IPython\\core\\interactiveshell.py\", line 1992, in showtraceback\n",
      "  File \"C:\\Users\\Binatone-PH\\anaconda3\\lib\\site-packages\\IPython\\core\\ultratb.py\", line 1118, in structured_traceback\n",
      "    if hasattr(self, 'tb') and self.tb is not None:\n",
      "  File \"C:\\Users\\Binatone-PH\\anaconda3\\lib\\site-packages\\IPython\\core\\ultratb.py\", line 1012, in structured_traceback\n",
      "    pygments_formatter=formatter,\n",
      "  File \"C:\\Users\\Binatone-PH\\anaconda3\\lib\\site-packages\\IPython\\core\\ultratb.py\", line 865, in structured_traceback\n",
      "    current_line,\n",
      "  File \"C:\\Users\\Binatone-PH\\anaconda3\\lib\\site-packages\\IPython\\core\\ultratb.py\", line 818, in format_exception_as_a_whole\n",
      "    # 100% sure this isn't actually a bug in inspect itself,\n",
      "  File \"C:\\Users\\Binatone-PH\\anaconda3\\lib\\site-packages\\IPython\\core\\ultratb.py\", line 736, in format_record\n",
      "    call_pdb: bool = False,\n",
      "  File \"C:\\Users\\Binatone-PH\\anaconda3\\lib\\site-packages\\stack_data\\utils.py\", line 145, in cached_property_wrapper\n",
      "    value = obj.__dict__[self.func.__name__] = self.func(obj)\n",
      "  File \"C:\\Users\\Binatone-PH\\anaconda3\\lib\\site-packages\\stack_data\\core.py\", line 698, in lines\n",
      "    pieces = self.included_pieces\n",
      "  File \"C:\\Users\\Binatone-PH\\anaconda3\\lib\\site-packages\\stack_data\\utils.py\", line 145, in cached_property_wrapper\n",
      "    value = obj.__dict__[self.func.__name__] = self.func(obj)\n",
      "  File \"C:\\Users\\Binatone-PH\\anaconda3\\lib\\site-packages\\stack_data\\core.py\", line 649, in included_pieces\n",
      "    pos = scope_pieces.index(self.executing_piece)\n",
      "  File \"C:\\Users\\Binatone-PH\\anaconda3\\lib\\site-packages\\stack_data\\utils.py\", line 145, in cached_property_wrapper\n",
      "    value = obj.__dict__[self.func.__name__] = self.func(obj)\n",
      "  File \"C:\\Users\\Binatone-PH\\anaconda3\\lib\\site-packages\\stack_data\\core.py\", line 628, in executing_piece\n",
      "    return only(\n",
      "  File \"C:\\Users\\Binatone-PH\\anaconda3\\lib\\site-packages\\executing\\executing.py\", line 164, in only\n",
      "    raise NotOneValueFound('Expected one value, found 0')\n",
      "executing.executing.NotOneValueFound: Expected one value, found 0\n"
     ]
    },
    {
     "data": {
      "text/plain": [
       "<Figure size 432x288 with 1 Axes>"
      ]
     },
     "metadata": {
      "needs_background": "light"
     },
     "output_type": "display_data"
    }
   ],
   "source": [
    "for col in columns[3:]:\n",
    "    sns.boxplot(data=raw_data, x=col, y='title')\n",
    "    plt.title('Boxplot of {} by House type'.format(col))\n",
    "    plt.xlabel('{}'.format(col))\n",
    "    plt.ylabel('Type of house')\n",
    "    plt.show()"
   ]
  },
  {
   "cell_type": "code",
   "execution_count": null,
   "id": "fa8fe493",
   "metadata": {},
   "outputs": [],
   "source": [
    "columns"
   ]
  },
  {
   "cell_type": "code",
   "execution_count": null,
   "id": "10dca5f6",
   "metadata": {},
   "outputs": [],
   "source": [
    "sns.countplot(data=raw_data, y='loc')\n",
    "plt.title(\"Frequency plot of locations\")\n",
    "plt.ylabel(\"Location\")\n",
    "plt.plot()"
   ]
  },
  {
   "cell_type": "code",
   "execution_count": null,
   "id": "537854cd",
   "metadata": {},
   "outputs": [],
   "source": [
    "sns.countplot(data=raw_data, y='title')\n",
    "plt.title(\"Frequency plot of house type\")\n",
    "plt.ylabel(\"Type of house\")\n",
    "plt.plot()"
   ]
  },
  {
   "cell_type": "code",
   "execution_count": null,
   "id": "3c644105",
   "metadata": {},
   "outputs": [],
   "source": [
    "sns.barplot(data=raw_data, y='title', x='price')\n",
    "plt.title(\"Price of houses by type\")\n",
    "plt.ylabel(\"Type of house\")\n",
    "plt.xlabel(\"Price\")\n",
    "plt.plot()"
   ]
  },
  {
   "cell_type": "code",
   "execution_count": null,
   "id": "b8e34db7",
   "metadata": {},
   "outputs": [],
   "source": [
    "sns.barplot(data=raw_data, y='loc', x='price')\n",
    "plt.title(\"Price of houses by location\")\n",
    "plt.ylabel(\"Location\")\n",
    "plt.xlabel(\"Price\")\n",
    "plt.plot()"
   ]
  },
  {
   "cell_type": "code",
   "execution_count": null,
   "id": "f9ca9228",
   "metadata": {},
   "outputs": [],
   "source": [
    "sns.scatterplot(data=raw_data, y='bedroom', hue='bathroom', x='price')\n",
    "plt.title(\"Scatterplot relating No of bedroom, No of bathroom and prices\")\n",
    "plt.xlabel('No of Bedroom(s)')\n",
    "plt.ylabel('No of Bathroom(s)')\n",
    "plt.plot()"
   ]
  },
  {
   "cell_type": "code",
   "execution_count": 26,
   "id": "675361c4",
   "metadata": {},
   "outputs": [
    {
     "ename": "ModuleNotFoundError",
     "evalue": "No module named 'catboost'",
     "output_type": "error",
     "traceback": [
      "\u001b[1;31m---------------------------------------------------------------------------\u001b[0m",
      "\u001b[1;31mModuleNotFoundError\u001b[0m                       Traceback (most recent call last)",
      "Input \u001b[1;32mIn [26]\u001b[0m, in \u001b[0;36m<cell line: 2>\u001b[1;34m()\u001b[0m\n\u001b[0;32m      1\u001b[0m \u001b[38;5;28;01mfrom\u001b[39;00m \u001b[38;5;21;01msklearn\u001b[39;00m\u001b[38;5;21;01m.\u001b[39;00m\u001b[38;5;21;01mpreprocessing\u001b[39;00m \u001b[38;5;28;01mimport\u001b[39;00m LabelEncoder\n\u001b[1;32m----> 2\u001b[0m \u001b[38;5;28;01mfrom\u001b[39;00m \u001b[38;5;21;01mcatboost\u001b[39;00m \u001b[38;5;28;01mimport\u001b[39;00m CatBoostRegressor\n\u001b[0;32m      3\u001b[0m \u001b[38;5;28;01mfrom\u001b[39;00m \u001b[38;5;21;01msklearn\u001b[39;00m\u001b[38;5;21;01m.\u001b[39;00m\u001b[38;5;21;01mmodel_selection\u001b[39;00m \u001b[38;5;28;01mimport\u001b[39;00m train_test_split\n\u001b[0;32m      4\u001b[0m \u001b[38;5;28;01mfrom\u001b[39;00m \u001b[38;5;21;01msklearn\u001b[39;00m\u001b[38;5;21;01m.\u001b[39;00m\u001b[38;5;21;01mmodel_selection\u001b[39;00m \u001b[38;5;28;01mimport\u001b[39;00m KFold\n",
      "\u001b[1;31mModuleNotFoundError\u001b[0m: No module named 'catboost'"
     ]
    }
   ],
   "source": [
    "from sklearn.preprocessing import LabelEncoder\n",
    "from catboost import CatBoostRegressor\n",
    "from sklearn.model_selection import train_test_split\n",
    "from sklearn.model_selection import KFold\n",
    "from sklearn.metrics import mean_squared_error\n",
    "from lightgbm import LGBMRegressor"
   ]
  },
  {
   "cell_type": "code",
   "execution_count": 30,
   "id": "615c5b95",
   "metadata": {},
   "outputs": [
    {
     "name": "stdout",
     "output_type": "stream",
     "text": [
      "Collecting catboost\n",
      "  Downloading catboost-1.2-cp39-cp39-win_amd64.whl (101.0 MB)\n",
      "                                            0.5/101.0 MB 341.8 kB/s eta 0:04:55\n",
      "Note: you may need to restart the kernel to use updated packages.\n"
     ]
    },
    {
     "name": "stderr",
     "output_type": "stream",
     "text": [
      "ERROR: Exception:\n",
      "Traceback (most recent call last):\n",
      "  File \"C:\\Users\\Binatone-PH\\anaconda3\\lib\\site-packages\\pip\\_vendor\\urllib3\\response.py\", line 438, in _error_catcher\n",
      "    yield\n",
      "  File \"C:\\Users\\Binatone-PH\\anaconda3\\lib\\site-packages\\pip\\_vendor\\urllib3\\response.py\", line 561, in read\n",
      "    data = self._fp_read(amt) if not fp_closed else b\"\"\n",
      "  File \"C:\\Users\\Binatone-PH\\anaconda3\\lib\\site-packages\\pip\\_vendor\\urllib3\\response.py\", line 527, in _fp_read\n",
      "    return self._fp.read(amt) if amt is not None else self._fp.read()\n",
      "  File \"C:\\Users\\Binatone-PH\\anaconda3\\lib\\site-packages\\pip\\_vendor\\cachecontrol\\filewrapper.py\", line 90, in read\n",
      "    data = self.__fp.read(amt)\n",
      "  File \"C:\\Users\\Binatone-PH\\anaconda3\\lib\\http\\client.py\", line 463, in read\n",
      "    n = self.readinto(b)\n",
      "  File \"C:\\Users\\Binatone-PH\\anaconda3\\lib\\http\\client.py\", line 507, in readinto\n",
      "    n = self.fp.readinto(b)\n",
      "  File \"C:\\Users\\Binatone-PH\\anaconda3\\lib\\socket.py\", line 704, in readinto\n",
      "    return self._sock.recv_into(b)\n",
      "  File \"C:\\Users\\Binatone-PH\\anaconda3\\lib\\ssl.py\", line 1242, in recv_into\n",
      "    return self.read(nbytes, buffer)\n",
      "  File \"C:\\Users\\Binatone-PH\\anaconda3\\lib\\ssl.py\", line 1100, in read\n",
      "    return self._sslobj.read(len, buffer)\n",
      "socket.timeout: The read operation timed out\n",
      "\n",
      "During handling of the above exception, another exception occurred:\n",
      "\n",
      "Traceback (most recent call last):\n",
      "  File \"C:\\Users\\Binatone-PH\\anaconda3\\lib\\site-packages\\pip\\_internal\\cli\\base_command.py\", line 180, in exc_logging_wrapper\n",
      "    status = run_func(*args)\n",
      "  File \"C:\\Users\\Binatone-PH\\anaconda3\\lib\\site-packages\\pip\\_internal\\cli\\req_command.py\", line 248, in wrapper\n",
      "    return func(self, options, args)\n",
      "  File \"C:\\Users\\Binatone-PH\\anaconda3\\lib\\site-packages\\pip\\_internal\\commands\\install.py\", line 377, in run\n",
      "    requirement_set = resolver.resolve(\n",
      "  File \"C:\\Users\\Binatone-PH\\anaconda3\\lib\\site-packages\\pip\\_internal\\resolution\\resolvelib\\resolver.py\", line 92, in resolve\n",
      "    result = self._result = resolver.resolve(\n",
      "  File \"C:\\Users\\Binatone-PH\\anaconda3\\lib\\site-packages\\pip\\_vendor\\resolvelib\\resolvers.py\", line 546, in resolve\n",
      "    state = resolution.resolve(requirements, max_rounds=max_rounds)\n",
      "  File \"C:\\Users\\Binatone-PH\\anaconda3\\lib\\site-packages\\pip\\_vendor\\resolvelib\\resolvers.py\", line 397, in resolve\n",
      "    self._add_to_criteria(self.state.criteria, r, parent=None)\n",
      "  File \"C:\\Users\\Binatone-PH\\anaconda3\\lib\\site-packages\\pip\\_vendor\\resolvelib\\resolvers.py\", line 173, in _add_to_criteria\n",
      "    if not criterion.candidates:\n",
      "  File \"C:\\Users\\Binatone-PH\\anaconda3\\lib\\site-packages\\pip\\_vendor\\resolvelib\\structs.py\", line 156, in __bool__\n",
      "    return bool(self._sequence)\n",
      "  File \"C:\\Users\\Binatone-PH\\anaconda3\\lib\\site-packages\\pip\\_internal\\resolution\\resolvelib\\found_candidates.py\", line 155, in __bool__\n",
      "    return any(self)\n",
      "  File \"C:\\Users\\Binatone-PH\\anaconda3\\lib\\site-packages\\pip\\_internal\\resolution\\resolvelib\\found_candidates.py\", line 143, in <genexpr>\n",
      "    return (c for c in iterator if id(c) not in self._incompatible_ids)\n",
      "  File \"C:\\Users\\Binatone-PH\\anaconda3\\lib\\site-packages\\pip\\_internal\\resolution\\resolvelib\\found_candidates.py\", line 47, in _iter_built\n",
      "    candidate = func()\n",
      "  File \"C:\\Users\\Binatone-PH\\anaconda3\\lib\\site-packages\\pip\\_internal\\resolution\\resolvelib\\factory.py\", line 206, in _make_candidate_from_link\n",
      "    self._link_candidate_cache[link] = LinkCandidate(\n",
      "  File \"C:\\Users\\Binatone-PH\\anaconda3\\lib\\site-packages\\pip\\_internal\\resolution\\resolvelib\\candidates.py\", line 293, in __init__\n",
      "    super().__init__(\n",
      "  File \"C:\\Users\\Binatone-PH\\anaconda3\\lib\\site-packages\\pip\\_internal\\resolution\\resolvelib\\candidates.py\", line 156, in __init__\n",
      "    self.dist = self._prepare()\n",
      "  File \"C:\\Users\\Binatone-PH\\anaconda3\\lib\\site-packages\\pip\\_internal\\resolution\\resolvelib\\candidates.py\", line 225, in _prepare\n",
      "    dist = self._prepare_distribution()\n",
      "  File \"C:\\Users\\Binatone-PH\\anaconda3\\lib\\site-packages\\pip\\_internal\\resolution\\resolvelib\\candidates.py\", line 304, in _prepare_distribution\n",
      "    return preparer.prepare_linked_requirement(self._ireq, parallel_builds=True)\n",
      "  File \"C:\\Users\\Binatone-PH\\anaconda3\\lib\\site-packages\\pip\\_internal\\operations\\prepare.py\", line 538, in prepare_linked_requirement\n",
      "    return self._prepare_linked_requirement(req, parallel_builds)\n",
      "  File \"C:\\Users\\Binatone-PH\\anaconda3\\lib\\site-packages\\pip\\_internal\\operations\\prepare.py\", line 609, in _prepare_linked_requirement\n",
      "    local_file = unpack_url(\n",
      "  File \"C:\\Users\\Binatone-PH\\anaconda3\\lib\\site-packages\\pip\\_internal\\operations\\prepare.py\", line 166, in unpack_url\n",
      "    file = get_http_url(\n",
      "  File \"C:\\Users\\Binatone-PH\\anaconda3\\lib\\site-packages\\pip\\_internal\\operations\\prepare.py\", line 107, in get_http_url\n",
      "    from_path, content_type = download(link, temp_dir.path)\n",
      "  File \"C:\\Users\\Binatone-PH\\anaconda3\\lib\\site-packages\\pip\\_internal\\network\\download.py\", line 147, in __call__\n",
      "    for chunk in chunks:\n",
      "  File \"C:\\Users\\Binatone-PH\\anaconda3\\lib\\site-packages\\pip\\_internal\\cli\\progress_bars.py\", line 53, in _rich_progress_bar\n",
      "    for chunk in iterable:\n",
      "  File \"C:\\Users\\Binatone-PH\\anaconda3\\lib\\site-packages\\pip\\_internal\\network\\utils.py\", line 63, in response_chunks\n",
      "    for chunk in response.raw.stream(\n",
      "  File \"C:\\Users\\Binatone-PH\\anaconda3\\lib\\site-packages\\pip\\_vendor\\urllib3\\response.py\", line 622, in stream\n",
      "    data = self.read(amt=amt, decode_content=decode_content)\n",
      "  File \"C:\\Users\\Binatone-PH\\anaconda3\\lib\\site-packages\\pip\\_vendor\\urllib3\\response.py\", line 587, in read\n",
      "    raise IncompleteRead(self._fp_bytes_read, self.length_remaining)\n",
      "  File \"C:\\Users\\Binatone-PH\\anaconda3\\lib\\contextlib.py\", line 137, in __exit__\n",
      "    self.gen.throw(typ, value, traceback)\n",
      "  File \"C:\\Users\\Binatone-PH\\anaconda3\\lib\\site-packages\\pip\\_vendor\\urllib3\\response.py\", line 443, in _error_catcher\n",
      "    raise ReadTimeoutError(self._pool, None, \"Read timed out.\")\n",
      "pip._vendor.urllib3.exceptions.ReadTimeoutError: HTTPSConnectionPool(host='files.pythonhosted.org', port=443): Read timed out.\n"
     ]
    }
   ],
   "source": [
    "pip install catboost"
   ]
  },
  {
   "cell_type": "code",
   "execution_count": 29,
   "id": "225ed224",
   "metadata": {},
   "outputs": [
    {
     "name": "stdout",
     "output_type": "stream",
     "text": [
      "Requirement already satisfied: ipywidgets in c:\\users\\binatone-ph\\anaconda3\\lib\\site-packages (8.0.4)\n",
      "Requirement already satisfied: ipykernel>=4.5.1 in c:\\users\\binatone-ph\\anaconda3\\lib\\site-packages (from ipywidgets) (6.25.0)\n",
      "Requirement already satisfied: ipython>=6.1.0 in c:\\users\\binatone-ph\\anaconda3\\lib\\site-packages (from ipywidgets) (8.12.0)\n",
      "Requirement already satisfied: traitlets>=4.3.1 in c:\\users\\binatone-ph\\anaconda3\\lib\\site-packages (from ipywidgets) (5.7.1)\n",
      "Requirement already satisfied: widgetsnbextension~=4.0 in c:\\users\\binatone-ph\\anaconda3\\lib\\site-packages (from ipywidgets) (4.0.5)\n",
      "Requirement already satisfied: jupyterlab-widgets~=3.0 in c:\\users\\binatone-ph\\anaconda3\\lib\\site-packages (from ipywidgets) (3.0.5)\n",
      "Requirement already satisfied: comm>=0.1.1 in c:\\users\\binatone-ph\\anaconda3\\lib\\site-packages (from ipykernel>=4.5.1->ipywidgets) (0.1.2)\n",
      "Requirement already satisfied: debugpy>=1.6.5 in c:\\users\\binatone-ph\\anaconda3\\lib\\site-packages (from ipykernel>=4.5.1->ipywidgets) (1.6.7)\n",
      "Requirement already satisfied: jupyter-client>=6.1.12 in c:\\users\\binatone-ph\\anaconda3\\lib\\site-packages (from ipykernel>=4.5.1->ipywidgets) (8.1.0)\n",
      "Requirement already satisfied: jupyter-core!=5.0.*,>=4.12 in c:\\users\\binatone-ph\\anaconda3\\lib\\site-packages (from ipykernel>=4.5.1->ipywidgets) (5.3.0)\n",
      "Requirement already satisfied: matplotlib-inline>=0.1 in c:\\users\\binatone-ph\\anaconda3\\lib\\site-packages (from ipykernel>=4.5.1->ipywidgets) (0.1.6)\n",
      "Requirement already satisfied: nest-asyncio in c:\\users\\binatone-ph\\anaconda3\\lib\\site-packages (from ipykernel>=4.5.1->ipywidgets) (1.5.6)\n",
      "Requirement already satisfied: packaging in c:\\users\\binatone-ph\\anaconda3\\lib\\site-packages (from ipykernel>=4.5.1->ipywidgets) (23.0)\n",
      "Requirement already satisfied: psutil in c:\\users\\binatone-ph\\anaconda3\\lib\\site-packages (from ipykernel>=4.5.1->ipywidgets) (5.9.0)\n",
      "Requirement already satisfied: pyzmq>=20 in c:\\users\\binatone-ph\\anaconda3\\lib\\site-packages (from ipykernel>=4.5.1->ipywidgets) (25.1.0)\n",
      "Requirement already satisfied: tornado>=6.1 in c:\\users\\binatone-ph\\anaconda3\\lib\\site-packages (from ipykernel>=4.5.1->ipywidgets) (6.3.2)\n",
      "Requirement already satisfied: backcall in c:\\users\\binatone-ph\\anaconda3\\lib\\site-packages (from ipython>=6.1.0->ipywidgets) (0.2.0)\n",
      "Requirement already satisfied: decorator in c:\\users\\binatone-ph\\anaconda3\\lib\\site-packages (from ipython>=6.1.0->ipywidgets) (5.1.1)\n",
      "Requirement already satisfied: jedi>=0.16 in c:\\users\\binatone-ph\\anaconda3\\lib\\site-packages (from ipython>=6.1.0->ipywidgets) (0.18.1)\n",
      "Requirement already satisfied: pickleshare in c:\\users\\binatone-ph\\anaconda3\\lib\\site-packages (from ipython>=6.1.0->ipywidgets) (0.7.5)\n",
      "Requirement already satisfied: prompt-toolkit!=3.0.37,<3.1.0,>=3.0.30 in c:\\users\\binatone-ph\\anaconda3\\lib\\site-packages (from ipython>=6.1.0->ipywidgets) (3.0.36)\n",
      "Requirement already satisfied: pygments>=2.4.0 in c:\\users\\binatone-ph\\anaconda3\\lib\\site-packages (from ipython>=6.1.0->ipywidgets) (2.15.1)\n",
      "Requirement already satisfied: stack-data in c:\\users\\binatone-ph\\anaconda3\\lib\\site-packages (from ipython>=6.1.0->ipywidgets) (0.2.0)\n",
      "Requirement already satisfied: typing-extensions in c:\\users\\binatone-ph\\anaconda3\\lib\\site-packages (from ipython>=6.1.0->ipywidgets) (4.7.1)\n",
      "Requirement already satisfied: colorama in c:\\users\\binatone-ph\\anaconda3\\lib\\site-packages (from ipython>=6.1.0->ipywidgets) (0.4.6)\n",
      "Requirement already satisfied: parso<0.9.0,>=0.8.0 in c:\\users\\binatone-ph\\anaconda3\\lib\\site-packages (from jedi>=0.16->ipython>=6.1.0->ipywidgets) (0.8.3)\n",
      "Requirement already satisfied: importlib-metadata>=4.8.3 in c:\\users\\binatone-ph\\anaconda3\\lib\\site-packages (from jupyter-client>=6.1.12->ipykernel>=4.5.1->ipywidgets) (6.0.0)\n",
      "Requirement already satisfied: python-dateutil>=2.8.2 in c:\\users\\binatone-ph\\anaconda3\\lib\\site-packages (from jupyter-client>=6.1.12->ipykernel>=4.5.1->ipywidgets) (2.8.2)\n",
      "Requirement already satisfied: platformdirs>=2.5 in c:\\users\\binatone-ph\\anaconda3\\lib\\site-packages (from jupyter-core!=5.0.*,>=4.12->ipykernel>=4.5.1->ipywidgets) (2.5.2)\n",
      "Requirement already satisfied: pywin32>=300 in c:\\users\\binatone-ph\\anaconda3\\lib\\site-packages (from jupyter-core!=5.0.*,>=4.12->ipykernel>=4.5.1->ipywidgets) (305.1)\n",
      "Requirement already satisfied: wcwidth in c:\\users\\binatone-ph\\anaconda3\\lib\\site-packages (from prompt-toolkit!=3.0.37,<3.1.0,>=3.0.30->ipython>=6.1.0->ipywidgets) (0.2.5)\n",
      "Requirement already satisfied: executing in c:\\users\\binatone-ph\\anaconda3\\lib\\site-packages (from stack-data->ipython>=6.1.0->ipywidgets) (0.8.3)\n",
      "Requirement already satisfied: asttokens in c:\\users\\binatone-ph\\anaconda3\\lib\\site-packages (from stack-data->ipython>=6.1.0->ipywidgets) (2.0.5)\n",
      "Requirement already satisfied: pure-eval in c:\\users\\binatone-ph\\anaconda3\\lib\\site-packages (from stack-data->ipython>=6.1.0->ipywidgets) (0.2.2)\n",
      "Requirement already satisfied: zipp>=0.5 in c:\\users\\binatone-ph\\anaconda3\\lib\\site-packages (from importlib-metadata>=4.8.3->jupyter-client>=6.1.12->ipykernel>=4.5.1->ipywidgets) (3.11.0)\n",
      "Requirement already satisfied: six>=1.5 in c:\\users\\binatone-ph\\anaconda3\\lib\\site-packages (from python-dateutil>=2.8.2->jupyter-client>=6.1.12->ipykernel>=4.5.1->ipywidgets) (1.16.0)\n",
      "Note: you may need to restart the kernel to use updated packages.\n"
     ]
    }
   ],
   "source": [
    "pip install ipywidgets"
   ]
  },
  {
   "cell_type": "code",
   "execution_count": null,
   "id": "2a3c1a44",
   "metadata": {},
   "outputs": [],
   "source": []
  }
 ],
 "metadata": {
  "kernelspec": {
   "display_name": "Python 3 (ipykernel)",
   "language": "python",
   "name": "python3"
  },
  "language_info": {
   "codemirror_mode": {
    "name": "ipython",
    "version": 3
   },
   "file_extension": ".py",
   "mimetype": "text/x-python",
   "name": "python",
   "nbconvert_exporter": "python",
   "pygments_lexer": "ipython3",
   "version": "3.9.17"
  }
 },
 "nbformat": 4,
 "nbformat_minor": 5
}
